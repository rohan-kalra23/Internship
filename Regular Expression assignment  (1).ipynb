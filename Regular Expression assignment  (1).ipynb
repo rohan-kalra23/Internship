{
 "cells": [
  {
   "cell_type": "raw",
   "id": "5db71148",
   "metadata": {},
   "source": [
    "Question 1- Write a Python program to check that a string contains only a certain set of characters (in this case a-z, A-Z and 0-9)."
   ]
  },
  {
   "cell_type": "code",
   "execution_count": 10,
   "id": "621c6c13",
   "metadata": {},
   "outputs": [
    {
     "name": "stdout",
     "output_type": "stream",
     "text": [
      "Enter a string: Abhijeeth@gmail.com\n",
      "String contains other characters.\n"
     ]
    }
   ],
   "source": [
    "###Question 1- Write a Python program to check that a string contains only a certain set of characters (in this case a-z, A-Z and 0-9)###\n",
    "\n",
    "\n",
    "import regex as re\n",
    "\n",
    "def contains_only_allowed_characters(string):\n",
    "    pattern = r'^[a-zA-Z0-9]+$'\n",
    "    return re.match(pattern, string) is not None\n",
    "\n",
    "# Test the function\n",
    "test_string = input(\"Enter a string: \")\n",
    "if contains_only_allowed_characters(test_string):\n",
    "    print(\"String contains only allowed characters.\")\n",
    "else:\n",
    "    print(\"String contains other characters.\")\n"
   ]
  },
  {
   "cell_type": "markdown",
   "id": "b27ef592",
   "metadata": {},
   "source": [
    "Question 2- Create a function in python that matches a string that has an a followed by zero or more b's"
   ]
  },
  {
   "cell_type": "code",
   "execution_count": 1,
   "id": "f04348bf",
   "metadata": {},
   "outputs": [
    {
     "name": "stdout",
     "output_type": "stream",
     "text": [
      "Enter a string: ab\n",
      "String matches the pattern.\n"
     ]
    }
   ],
   "source": [
    "###Question 2- Create a function in python that matches a string that has an a followed by zero or more b's ###\n",
    "\n",
    "import regex as re\n",
    "\n",
    "def match_pattern(string):\n",
    "    pattern = r'^ab*$'\n",
    "    return re.match(pattern, string) is not None\n",
    "\n",
    "# Test the function\n",
    "test_string = input(\"Enter a string: \")\n",
    "if match_pattern(test_string):\n",
    "    print(\"String matches the pattern.\")\n",
    "else:\n",
    "    print(\"String does not match the pattern.\")\n"
   ]
  },
  {
   "cell_type": "markdown",
   "id": "98b06890",
   "metadata": {},
   "source": [
    "Question 3-  Create a function in python that matches a string that has an a followed by one or more b's"
   ]
  },
  {
   "cell_type": "code",
   "execution_count": 5,
   "id": "9d190620",
   "metadata": {},
   "outputs": [
    {
     "name": "stdout",
     "output_type": "stream",
     "text": [
      "Enter a string: abb\n",
      "String matches the pattern.\n"
     ]
    }
   ],
   "source": [
    "###Question 3- Create a function in python that matches a string that has an a followed by one or more b's \n",
    "\n",
    "import re\n",
    "\n",
    "def match_pattern(string):\n",
    "    pattern = r'^ab*$'\n",
    "    return re.match(pattern, string) is not None\n",
    "\n",
    "# Test the function\n",
    "test_string = input(\"Enter a string: \")\n",
    "if match_pattern(test_string):\n",
    "    print(\"String matches the pattern.\")\n",
    "else:\n",
    "    print(\"String does not match the pattern.\")\n"
   ]
  },
  {
   "cell_type": "markdown",
   "id": "4bd4e5c9",
   "metadata": {},
   "source": [
    "Question 4- Create a function in Python and use RegEx that matches a string that has an a followed by zero or one 'b'."
   ]
  },
  {
   "cell_type": "code",
   "execution_count": 9,
   "id": "53191ef4",
   "metadata": {},
   "outputs": [
    {
     "name": "stdout",
     "output_type": "stream",
     "text": [
      "Enter a string: ab\n",
      "String matches the pattern.\n"
     ]
    }
   ],
   "source": [
    "### Question 4- Create a function in Python and use RegEx that matches a string that has an a followed by zero or one 'b'\n",
    "\n",
    "import re\n",
    "\n",
    "def match_pattern(string):\n",
    "    pattern = r'^a[b]?$'\n",
    "    return re.match(pattern, string) is not None\n",
    "\n",
    "# Test the function\n",
    "test_string = input(\"Enter a string: \")\n",
    "if match_pattern(test_string):\n",
    "    print(\"String matches the pattern.\")\n",
    "else:\n",
    "    print(\"String does not match the pattern.\")\n",
    "\n"
   ]
  },
  {
   "cell_type": "markdown",
   "id": "42d8e4a7",
   "metadata": {},
   "source": [
    "Question 5- Write a Python program that matches a string that has an a followed by three 'b'."
   ]
  },
  {
   "cell_type": "code",
   "execution_count": 7,
   "id": "95558935",
   "metadata": {},
   "outputs": [
    {
     "name": "stdout",
     "output_type": "stream",
     "text": [
      "Enter a string: abbb\n",
      "String matches the pattern.\n"
     ]
    }
   ],
   "source": [
    "### Question 5- Write a Python program that matches a string that has an a followed by three 'b'.\n",
    "\n",
    "\n",
    "import re\n",
    "\n",
    "def match_pattern(string):\n",
    "    pattern = r'^abbb$'\n",
    "    return re.match(pattern, string) is not None\n",
    "\n",
    "# Test the function\n",
    "test_string = input(\"Enter a string: \")\n",
    "if match_pattern(test_string):\n",
    "    print(\"String matches the pattern.\")\n",
    "else:\n",
    "    print(\"String does not match the pattern.\")\n"
   ]
  },
  {
   "cell_type": "markdown",
   "id": "2de35867",
   "metadata": {},
   "source": [
    "Question 6- Write a regular expression in Python to split a string into uppercase letters."
   ]
  },
  {
   "cell_type": "code",
   "execution_count": 11,
   "id": "b10cb940",
   "metadata": {},
   "outputs": [
    {
     "name": "stdout",
     "output_type": "stream",
     "text": [
      "Enter a string: abhIJEETH\n",
      "['abh', 'I', 'J', 'E', 'E', 'T', 'H']\n"
     ]
    }
   ],
   "source": [
    "###  Question 6- Write a regular expression in Python to split a string into uppercase letters.\n",
    "\n",
    "import re\n",
    "\n",
    "def split_uppercase(string):\n",
    "    pattern = r'(?=[A-Z])'\n",
    "    return re.split(pattern, string)\n",
    "\n",
    "# Test the function\n",
    "test_string = input(\"Enter a string: \")\n",
    "result = split_uppercase(test_string)\n",
    "print(result)\n"
   ]
  },
  {
   "cell_type": "markdown",
   "id": "a5d121e4",
   "metadata": {},
   "source": [
    "Question 7- Write a Python program that matches a string that has an a followed by two to three 'b'."
   ]
  },
  {
   "cell_type": "code",
   "execution_count": 3,
   "id": "c4aa4275",
   "metadata": {},
   "outputs": [
    {
     "name": "stdout",
     "output_type": "stream",
     "text": [
      "Enter a string: abb\n",
      "String matches the pattern.\n"
     ]
    }
   ],
   "source": [
    "### Question 7- Write a Python program that matches a string that has an a followed by two to three 'b'.\n",
    "\n",
    "import re\n",
    "\n",
    "def match_pattern(string):\n",
    "    pattern = r'^ab{2,3}$'\n",
    "    return re.match(pattern, string) is not None\n",
    "\n",
    "# Test the function\n",
    "test_string = input(\"Enter a string: \")\n",
    "if match_pattern(test_string):\n",
    "    print(\"String matches the pattern.\")\n",
    "else:\n",
    "    print(\"String does not match the pattern.\")\n"
   ]
  },
  {
   "cell_type": "markdown",
   "id": "b66e975e",
   "metadata": {},
   "source": [
    "Question 8- Write a Python program to find sequences of lowercase letters joined with a underscore."
   ]
  },
  {
   "cell_type": "code",
   "execution_count": 12,
   "id": "f092a3c5",
   "metadata": {},
   "outputs": [
    {
     "name": "stdout",
     "output_type": "stream",
     "text": [
      "Enter a string: abhi_abhi_ABHI\n",
      "Sequences found: ['abhi_abhi']\n"
     ]
    }
   ],
   "source": [
    "### Question 8- Write a Python program to find sequences of lowercase letters joined with a underscore.\n",
    "\n",
    "import re\n",
    "\n",
    "def find_sequences(string):\n",
    "    pattern = r'[a-z]+_[a-z]+'\n",
    "    return re.findall(pattern, string)\n",
    "\n",
    "# Test the function\n",
    "test_string = input(\"Enter a string: \")\n",
    "result = find_sequences(test_string)\n",
    "print(\"Sequences found:\", result)\n"
   ]
  },
  {
   "cell_type": "markdown",
   "id": "28682239",
   "metadata": {},
   "source": [
    "Question 9- Write a Python program that matches a string that has an 'a' followed by anything, ending in 'b'."
   ]
  },
  {
   "cell_type": "code",
   "execution_count": 13,
   "id": "0041f096",
   "metadata": {},
   "outputs": [
    {
     "name": "stdout",
     "output_type": "stream",
     "text": [
      "Enter a string: abhijethb\n",
      "String matches the pattern.\n"
     ]
    }
   ],
   "source": [
    "### Question 9- Write a Python program that matches a string that has an 'a' followed by anything, ending in 'b'.\n",
    "\n",
    "\n",
    "import re\n",
    "\n",
    "def match_pattern(string):\n",
    "    pattern = r'^a.*b$'\n",
    "    return re.match(pattern, string) is not None\n",
    "\n",
    "# Test the function\n",
    "test_string = input(\"Enter a string: \")\n",
    "if match_pattern(test_string):\n",
    "    print(\"String matches the pattern.\")\n",
    "else:\n",
    "    print(\"String does not match the pattern.\")"
   ]
  },
  {
   "cell_type": "markdown",
   "id": "b8159148",
   "metadata": {},
   "source": [
    "Question 10- Write a Python program that matches a word at the beginning of a string."
   ]
  },
  {
   "cell_type": "code",
   "execution_count": 14,
   "id": "360bd0ef",
   "metadata": {},
   "outputs": [
    {
     "name": "stdout",
     "output_type": "stream",
     "text": [
      "Enter a string: abhi\n",
      "String matches the pattern.\n"
     ]
    }
   ],
   "source": [
    "### Question 10- Write a Python program that matches a word at the beginning of a string.\n",
    "\n",
    "\n",
    "import re\n",
    "\n",
    "def match_pattern(string):\n",
    "    pattern = r'^\\w+'\n",
    "    return re.match(pattern, string) is not None\n",
    "\n",
    "# Test the function\n",
    "test_string = input(\"Enter a string: \")\n",
    "if match_pattern(test_string):\n",
    "    print(\"String matches the pattern.\")\n",
    "else:\n",
    "    print(\"String does not match the pattern.\")\n"
   ]
  },
  {
   "cell_type": "markdown",
   "id": "70298895",
   "metadata": {},
   "source": [
    "Question 11- Write a Python program to match a string that contains only upper and lowercase letters, numbers, and underscores."
   ]
  },
  {
   "cell_type": "code",
   "execution_count": 15,
   "id": "9c9abca5",
   "metadata": {},
   "outputs": [
    {
     "name": "stdout",
     "output_type": "stream",
     "text": [
      "Enter a string: Abhijeeth7_\n",
      "String matches the pattern.\n"
     ]
    }
   ],
   "source": [
    "### Question 11- Write a Python program to match a string that contains only upper and lowercase letters, numbers, and underscores.\n",
    "\n",
    "\n",
    "import re\n",
    "\n",
    "def match_pattern(string):\n",
    "    pattern = r'^[a-zA-Z0-9_]+$'\n",
    "    return re.match(pattern, string) is not None\n",
    "\n",
    "# Test the function\n",
    "test_string = input(\"Enter a string: \")\n",
    "if match_pattern(test_string):\n",
    "    print(\"String matches the pattern.\")\n",
    "else:\n",
    "    print(\"String does not match the pattern.\")\n"
   ]
  },
  {
   "cell_type": "markdown",
   "id": "b6b03766",
   "metadata": {},
   "source": [
    "Question 12- Write a Python program where a string will start with a specific number. "
   ]
  },
  {
   "cell_type": "code",
   "execution_count": 16,
   "id": "586e4e85",
   "metadata": {},
   "outputs": [
    {
     "name": "stdout",
     "output_type": "stream",
     "text": [
      "Enter a string: 6@gmail.com\n",
      "Enter a specific number: 6\n",
      "String starts with the specific number.\n"
     ]
    }
   ],
   "source": [
    "### Question 12- Write a Python program where a string will start with a specific number. \n",
    "\n",
    "\n",
    "def match_pattern(string, specific_number):\n",
    "    return string.startswith(str(specific_number))\n",
    "\n",
    "# Test the function\n",
    "test_string = input(\"Enter a string: \")\n",
    "number = int(input(\"Enter a specific number: \"))\n",
    "if match_pattern(test_string, number):\n",
    "    print(\"String starts with the specific number.\")\n",
    "else:\n",
    "    print(\"String does not start with the specific number.\")\n"
   ]
  },
  {
   "cell_type": "markdown",
   "id": "06eae1ae",
   "metadata": {},
   "source": [
    "Question 13- Write a Python program to remove leading zeros from an IP address"
   ]
  },
  {
   "cell_type": "code",
   "execution_count": 17,
   "id": "25397fa4",
   "metadata": {},
   "outputs": [
    {
     "name": "stdout",
     "output_type": "stream",
     "text": [
      "Enter ip address192.168.005.001\n",
      "192.168.5.1\n"
     ]
    }
   ],
   "source": [
    "### Question 13- Write a Python program to remove leading zeros from an IP address\n",
    "\n",
    "\n",
    "def remove_leading_zeros(ip_address):\n",
    "    # Split the IP address into individual octets\n",
    "    octets = ip_address.split('.')\n",
    "\n",
    "    # Remove leading zeros from each octet\n",
    "    cleaned_octets = [str(int(octet)) for octet in octets]\n",
    "\n",
    "    # Join the cleaned octets back together\n",
    "    cleaned_ip = '.'.join(cleaned_octets)\n",
    "\n",
    "    return cleaned_ip\n",
    "\n",
    "\n",
    "# Test the function\n",
    "ip_address =input(\"Enter ip address\")\n",
    "cleaned_ip = remove_leading_zeros(ip_address)\n",
    "print(cleaned_ip)"
   ]
  },
  {
   "cell_type": "markdown",
   "id": "76fd461b",
   "metadata": {},
   "source": [
    "\n",
    "Question 14- Write a regular expression in python to match a date string in the form of Month name followed by day number and year stored in a text file.\n",
    "\n",
    "Sample text : ' On August 15th 1947 that India was declared independent from British colonialism, and the reins of control were handed over to the leaders of the Country’.\n",
    "Output- August 15th 1947\n",
    "Hint- Use re.match() method here\n"
   ]
  },
  {
   "cell_type": "code",
   "execution_count": 3,
   "id": "6a67d779",
   "metadata": {},
   "outputs": [
    {
     "name": "stdout",
     "output_type": "stream",
     "text": [
      "No match found.\n"
     ]
    }
   ],
   "source": [
    "###Question 14- Write a regular expression in python to match a date string in the form of Month name followed by day number and year stored in a text file.\n",
    "\n",
    "###Sample text : ' On August 15th 1947 that India was declared independent from British colonialism, and the reins of control were handed over to the leaders of the Country’.\n",
    "###Output- August 15th 1947\n",
    "###Hint- Use re.match() method here\n",
    "\n",
    "\n",
    "import re\n",
    "\n",
    "text = \"On August 15th 1947 that India was declared independent from British colonialism, and the reins of control were handed over to the leaders of the Country\"\n",
    "\n",
    "date_pattern = r\"\\b[A-Za-z]+\\s\\d{1,2}(?:st|nd|rd|th)?\\s\\d{4}\\b\"\n",
    "match = re.match(date_pattern, text)\n",
    "\n",
    "if match:\n",
    "    print(match.group())\n",
    "else:\n",
    "    print(\"No match found.\")\n"
   ]
  },
  {
   "cell_type": "markdown",
   "id": "34ea0717",
   "metadata": {},
   "source": [
    "Question 15- Write a Python program to search some literals strings in a string. Go to the editor\n",
    "\n",
    "Sample text : 'The quick brown fox jumps over the lazy dog.'\n",
    "Searched words : 'fox', 'dog', 'horse'"
   ]
  },
  {
   "cell_type": "code",
   "execution_count": 3,
   "id": "f0acfa2c",
   "metadata": {},
   "outputs": [
    {
     "name": "stdout",
     "output_type": "stream",
     "text": [
      "Found 'fox' at position 16-19.\n",
      "Found 'dog' at position 40-43.\n"
     ]
    }
   ],
   "source": [
    "### Question 15- Write a Python program to search some literals strings in a string. Go to the editor\n",
    "\n",
    "### Sample text : 'The quick brown fox jumps over the lazy dog.'\n",
    "### Searched words : 'fox', 'dog', 'horse'\n",
    "\n",
    "\n",
    "import re\n",
    "\n",
    "def search_literal_strings(text, searched_words):\n",
    "    for word in searched_words:\n",
    "        matches = re.finditer(re.escape(word), text)\n",
    "        for match in matches:\n",
    "            start = match.start()\n",
    "            end = match.end()\n",
    "            print(f\"Found '{word}' at position {start}-{end}.\")\n",
    "\n",
    "text = 'The quick brown fox jumps over the lazy dog.'\n",
    "searched_words = ['fox', 'dog', 'horse']\n",
    "\n",
    "search_literal_strings(text, searched_words)\n"
   ]
  },
  {
   "cell_type": "markdown",
   "id": "98975ed3",
   "metadata": {},
   "source": [
    "Question 16- Write a Python program to search a literals string in a string and also find the location within the original string where the pattern occurs\n",
    "\n",
    "Sample text : 'The quick brown fox jumps over the lazy dog.'\n",
    "Searched words : 'fox'\n"
   ]
  },
  {
   "cell_type": "code",
   "execution_count": 2,
   "id": "57d31686",
   "metadata": {},
   "outputs": [
    {
     "name": "stdout",
     "output_type": "stream",
     "text": [
      "Found 'fox' at position 16-19.\n"
     ]
    }
   ],
   "source": [
    "### Question 16- Write a Python program to search a literals string in a string and also find the location within the original string where the pattern occurs\n",
    "\n",
    "### Sample text : 'The quick brown fox jumps over the lazy dog.'\n",
    "### Searched words : 'fox'\n",
    "\n",
    "\n",
    "\n",
    "import re\n",
    "\n",
    "def search_literal_string(text, pattern):\n",
    "    matches = re.finditer(re.escape(pattern), text)\n",
    "    for match in matches:\n",
    "        start = match.start()\n",
    "        end = match.end()\n",
    "        print(f\"Found '{pattern}' at position {start}-{end}.\")\n",
    "\n",
    "text = 'The quick brown fox jumps over the lazy dog.'\n",
    "pattern = 'fox'\n",
    "\n",
    "search_literal_string(text, pattern)\n"
   ]
  },
  {
   "cell_type": "markdown",
   "id": "1bba31f3",
   "metadata": {},
   "source": [
    "Question 17- Write a Python program to find the substrings within a string.\n",
    "Sample text : 'Python exercises, PHP exercises, C# exercises'\n",
    "Pattern : 'exercises'.\n"
   ]
  },
  {
   "cell_type": "code",
   "execution_count": 4,
   "id": "b5b527ae",
   "metadata": {},
   "outputs": [
    {
     "name": "stdout",
     "output_type": "stream",
     "text": [
      "The pattern 'exercises' occurs at positions: [7, 22, 36]\n"
     ]
    }
   ],
   "source": [
    "### Question 17- Write a Python program to find the substrings within a string.\n",
    "### Sample text : 'Python exercises, PHP exercises, C# exercises'\n",
    "### Pattern : 'exercises'.\n",
    "\n",
    "\n",
    "def find_substrings(string, pattern):\n",
    "    positions = []\n",
    "    length = len(pattern)\n",
    "    for i in range(len(string)):\n",
    "        if string[i:i+length] == pattern:\n",
    "            positions.append(i)\n",
    "    return positions\n",
    "\n",
    "string = 'Python exercises, PHP exercises, C# exercises'\n",
    "pattern = 'exercises'\n",
    "\n",
    "result = find_substrings(string, pattern)\n",
    "print(f\"The pattern '{pattern}' occurs at positions: {result}\")"
   ]
  },
  {
   "cell_type": "markdown",
   "id": "7f49f73d",
   "metadata": {},
   "source": [
    "\n",
    "Question 18- Write a Python program to find the occurrence and position of the substrings within a string.\n"
   ]
  },
  {
   "cell_type": "code",
   "execution_count": 5,
   "id": "6f82d4bf",
   "metadata": {},
   "outputs": [
    {
     "name": "stdout",
     "output_type": "stream",
     "text": [
      "Occurrences of 'fox': 1\n",
      "Positions of 'fox': [('fox', 16, 18)]\n"
     ]
    }
   ],
   "source": [
    "def find_substring_occurrences(string, substring):\n",
    "    occurrences = []\n",
    "    start = 0\n",
    "    while start < len(string):\n",
    "        pos = string.find(substring, start)\n",
    "        if pos != -1:\n",
    "            occurrences.append(pos)\n",
    "            start = pos + 1\n",
    "        else:\n",
    "            break\n",
    "    return occurrences\n",
    "\n",
    "def find_substring_positions(string, substring):\n",
    "    positions = []\n",
    "    start = 0\n",
    "    while start < len(string):\n",
    "        pos = string.find(substring, start)\n",
    "        if pos != -1:\n",
    "            positions.append((substring, pos, pos + len(substring) - 1))\n",
    "            start = pos + 1\n",
    "        else:\n",
    "            break\n",
    "    return positions\n",
    "\n",
    "# Example usage\n",
    "text = \"The quick brown fox jumps over the lazy dog.\"\n",
    "substring = \"fox\"\n",
    "\n",
    "occurrences = find_substring_occurrences(text, substring)\n",
    "positions = find_substring_positions(text, substring)\n",
    "\n",
    "print(f\"Occurrences of '{substring}': {len(occurrences)}\")\n",
    "print(f\"Positions of '{substring}': {positions}\")\n"
   ]
  },
  {
   "cell_type": "markdown",
   "id": "64d62041",
   "metadata": {},
   "source": [
    "Question 19- Write a Python program to convert a date of yyyy-mm-dd format to dd-mm-yyyy format."
   ]
  },
  {
   "cell_type": "code",
   "execution_count": 6,
   "id": "b06bd9f0",
   "metadata": {},
   "outputs": [
    {
     "name": "stdout",
     "output_type": "stream",
     "text": [
      "Enter a date in yyyy-mm-dd format: 2022-02-25\n",
      "Converted date: 25-02-2022\n"
     ]
    }
   ],
   "source": [
    "### Question 19- Write a Python program to convert a date of yyyy-mm-dd format to dd-mm-yyyy format.\n",
    "\n",
    "def convert_date(date):\n",
    "    # Split the date into year, month, and day\n",
    "    year, month, day = date.split('-')\n",
    "\n",
    "    # Reorder the date components\n",
    "    new_date = f\"{day}-{month}-{year}\"\n",
    "\n",
    "    return new_date\n",
    "\n",
    "# Test the function\n",
    "date = input(\"Enter a date in yyyy-mm-dd format: \")\n",
    "converted_date = convert_date(date)\n",
    "print(\"Converted date:\", converted_date)"
   ]
  },
  {
   "cell_type": "markdown",
   "id": "2be44c28",
   "metadata": {},
   "source": [
    "Question 20- Write a Python program to find all words starting with 'a' or 'e' in a given string."
   ]
  },
  {
   "cell_type": "code",
   "execution_count": 7,
   "id": "ddb7fa70",
   "metadata": {},
   "outputs": [
    {
     "name": "stdout",
     "output_type": "stream",
     "text": [
      "Enter a string: i am abhi eat \n",
      "Words starting with 'a' or 'e': ['am', 'abhi', 'eat']\n"
     ]
    }
   ],
   "source": [
    "### Question 20- Write a Python program to find all words starting with 'a' or 'e' in a given string.\n",
    "\n",
    "def find_words_starting_with_a_or_e(string):\n",
    "    words = string.split()  # Split the string into individual words\n",
    "    result = []\n",
    "    for word in words:\n",
    "        if word[0].lower() == 'a' or word[0].lower() == 'e':\n",
    "            result.append(word)\n",
    "    return result\n",
    "\n",
    "# Prompt the user to enter a string\n",
    "input_string = input(\"Enter a string: \")\n",
    "\n",
    "# Call the function with the input string and print the result\n",
    "matching_words = find_words_starting_with_a_or_e(input_string)\n",
    "print(\"Words starting with 'a' or 'e':\", matching_words)"
   ]
  },
  {
   "cell_type": "markdown",
   "id": "e298fab3",
   "metadata": {},
   "source": [
    "Question 21- Write a Python program to separate and print the numbers and their position of a given string."
   ]
  },
  {
   "cell_type": "code",
   "execution_count": 8,
   "id": "24121c10",
   "metadata": {},
   "outputs": [
    {
     "name": "stdout",
     "output_type": "stream",
     "text": [
      "Enter a string: abhjah7557ahs88\n",
      "Number: 7557, Position: 6\n",
      "Number: 88, Position: 13\n"
     ]
    }
   ],
   "source": [
    "### Question 21- Write a Python program to separate and print the numbers and their position of a given string.\n",
    "\n",
    "import re\n",
    "\n",
    "def separate_numbers(string):\n",
    "    pattern = r'\\d+'\n",
    "    matches = re.finditer(pattern, string)\n",
    "    numbers = []\n",
    "    for match in matches:\n",
    "        number = match.group()\n",
    "        position = match.start()\n",
    "        numbers.append((number, position))\n",
    "    return numbers\n",
    "\n",
    "# Test the function\n",
    "test_string = input(\"Enter a string: \")\n",
    "number_positions = separate_numbers(test_string)\n",
    "for number, position in number_positions:\n",
    "    print(f\"Number: {number}, Position: {position}\")\n"
   ]
  },
  {
   "cell_type": "markdown",
   "id": "e68c573e",
   "metadata": {},
   "source": [
    "Question 22- Write a regular expression in python program to extract maximum numeric value from a string"
   ]
  },
  {
   "cell_type": "code",
   "execution_count": 9,
   "id": "e9c6ef17",
   "metadata": {},
   "outputs": [
    {
     "name": "stdout",
     "output_type": "stream",
     "text": [
      "Enter a string: 545,22,10,02,875788\n",
      "Maximum numeric value: 875788\n"
     ]
    }
   ],
   "source": [
    "### Question 22- Write a regular expression in python program to extract maximum numeric value from a string\n",
    "\n",
    "import re\n",
    "\n",
    "def extract_maximum_numeric_value(string):\n",
    "    pattern = r'\\d+'\n",
    "    numbers = re.findall(pattern, string)\n",
    "    if numbers:\n",
    "        max_number = max(map(int, numbers))\n",
    "        return max_number\n",
    "    else:\n",
    "        return None\n",
    "\n",
    "# Test the function\n",
    "test_string = input(\"Enter a string: \")\n",
    "max_number = extract_maximum_numeric_value(test_string)\n",
    "if max_number is not None:\n",
    "    print(\"Maximum numeric value:\", max_number)\n",
    "else:\n",
    "    print(\"No numeric value found in the string.\")\n"
   ]
  },
  {
   "cell_type": "markdown",
   "id": "ac8bfeb0",
   "metadata": {},
   "source": [
    "\n",
    "Question 23- Write a Regex in Python to put spaces between words starting with capital letters"
   ]
  },
  {
   "cell_type": "code",
   "execution_count": 11,
   "id": "bf8002ba",
   "metadata": {},
   "outputs": [
    {
     "name": "stdout",
     "output_type": "stream",
     "text": [
      "Enter the string HelloWorldThisIsARegexExample\n",
      "Hello World This Is A Regex Example\n"
     ]
    }
   ],
   "source": [
    "### Question 23- Write a Regex in Python to put spaces between words starting with capital letters\n",
    "\n",
    "import re\n",
    "\n",
    "text=input(\"Enter the string \")\n",
    "\n",
    "result = re.sub(r'(?<!^)(?=[A-Z])', ' ', text)\n",
    "\n",
    "print(result)"
   ]
  },
  {
   "cell_type": "markdown",
   "id": "3ace2229",
   "metadata": {},
   "source": [
    "\n",
    "Question 24- Python regex to find sequences of one upper case letter followed by lower case letters"
   ]
  },
  {
   "cell_type": "code",
   "execution_count": 13,
   "id": "d90565a2",
   "metadata": {},
   "outputs": [
    {
     "name": "stdout",
     "output_type": "stream",
     "text": [
      "Enter the string:Abhijeeth,abhi,aka,Gnj\n",
      "['Abhijeeth', 'Gnj']\n"
     ]
    }
   ],
   "source": [
    "### Question 24- Python regex to find sequences of one upper case letter followed by lower case letters\n",
    "\n",
    "import re\n",
    "\n",
    "text=input(\"Enter the string:\")\n",
    "pattern = r'[A-Z][a-z]+'\n",
    "\n",
    "matches = re.findall(pattern, text)\n",
    "print(matches)"
   ]
  },
  {
   "cell_type": "markdown",
   "id": "21f1164f",
   "metadata": {},
   "source": [
    "Question 25- Write a Python program to remove duplicate words from Sentence using Regular Expression"
   ]
  },
  {
   "cell_type": "code",
   "execution_count": 16,
   "id": "373d9f02",
   "metadata": {},
   "outputs": [
    {
     "name": "stdout",
     "output_type": "stream",
     "text": [
      "The quick brown fox jumps over lazy dog\n"
     ]
    }
   ],
   "source": [
    "### Question 25- Write a Python program to remove duplicate words from Sentence using Regular Expression\n",
    "\n",
    "import re\n",
    "\n",
    "def remove_duplicate_words(sentence):\n",
    "    words = re.findall(r'\\b(\\w+)\\b', sentence)\n",
    "    unique_words = []\n",
    "    seen = set()\n",
    "    for word in words:\n",
    "        if word.lower() not in seen:\n",
    "            seen.add(word.lower())\n",
    "            unique_words.append(word)\n",
    "    return ' '.join(unique_words)\n",
    "\n",
    "# Example usage\n",
    "text = \"The quick brown fox jumps over the lazy dog the quick brown fox.\"\n",
    "\n",
    "result = remove_duplicate_words(text)\n",
    "\n",
    "print(result)\n"
   ]
  },
  {
   "cell_type": "markdown",
   "id": "179785ec",
   "metadata": {},
   "source": [
    "Question 26-  Write a python program using RegEx to accept string ending with alphanumeric character."
   ]
  },
  {
   "cell_type": "code",
   "execution_count": 19,
   "id": "f6c64775",
   "metadata": {},
   "outputs": [
    {
     "name": "stdout",
     "output_type": "stream",
     "text": [
      "Enter a string: asuvarna6\n",
      "String ends with an alphanumeric character.\n"
     ]
    }
   ],
   "source": [
    "###Question 26- Write a python program using RegEx to accept string ending with alphanumeric character.\n",
    "\n",
    "import re\n",
    "\n",
    "def validate_string(string):\n",
    "    pattern = r'^.*[a-zA-Z0-9]$'\n",
    "    match = re.match(pattern, string)\n",
    "    if match:\n",
    "        return True\n",
    "    else:\n",
    "        return False\n",
    "\n",
    "# Example usage\n",
    "input_string = input(\"Enter a string: \")\n",
    "\n",
    "if validate_string(input_string):\n",
    "    print(\"String ends with an alphanumeric character.\")\n",
    "else:\n",
    "    print(\"String does not end with an alphanumeric character.\")\n"
   ]
  },
  {
   "cell_type": "markdown",
   "id": "8b84e6b8",
   "metadata": {},
   "source": [
    "Question 27-Write a python program using RegEx to extract the hashtags\n",
    "Sample Text: text = \"\"\"RT @kapil_kausik: #Doltiwal I mean #xyzabc is \"hurt\" by #Demonetization as the same has rendered USELESS <ed><U+00A0><U+00BD><ed><U+00B1><U+0089> \"acquired funds\" No wo\"\"\"\n",
    "Output: ['#Doltiwal', '#xyzabc', '#Demonetization']\n"
   ]
  },
  {
   "cell_type": "code",
   "execution_count": 20,
   "id": "f09e65e7",
   "metadata": {},
   "outputs": [
    {
     "name": "stdout",
     "output_type": "stream",
     "text": [
      "['programming', 'Python', 'codinglife']\n"
     ]
    }
   ],
   "source": [
    "### Question 27-Write a python program using RegEx to extract the hashtags\n",
    "\n",
    "import re\n",
    "\n",
    "def extract_hashtags(text):\n",
    "    hashtags = re.findall(r'#(\\w+)', text)\n",
    "    return hashtags\n",
    "\n",
    "# Example usage\n",
    "text = \"I love #programming and #Python! #codinglife\"\n",
    "hashtags = extract_hashtags(text)\n",
    "\n",
    "print(hashtags)"
   ]
  },
  {
   "cell_type": "markdown",
   "id": "0cbe0142",
   "metadata": {},
   "source": [
    "Question 28- Write a python program using RegEx to remove <U+..> like symbols"
   ]
  },
  {
   "cell_type": "code",
   "execution_count": 35,
   "id": "5b71529e",
   "metadata": {},
   "outputs": [
    {
     "name": "stdout",
     "output_type": "stream",
     "text": [
      "Result: @Jags123456 Bharat band on 28??<ed><ed>Those who  are protesting #demonetization  are all different party leaders\n"
     ]
    }
   ],
   "source": [
    "###Question 28- Write a python program using RegEx to remove <U+..> like symbols\n",
    "\n",
    "\n",
    "import re\n",
    "\n",
    "def remove_u_plus_symbols(string):\n",
    "    pattern = r'<U\\+[A-Fa-f0-9]+>'\n",
    "    result = re.sub(pattern, '', string)\n",
    "    return result\n",
    "\n",
    "# Test the function\n",
    "test_string = \"@Jags123456 Bharat band on 28??<ed><U+00A0><U+00BD><ed><U+00B8><U+0082>Those who  are protesting #demonetization  are all different party leaders\"\n",
    "result_string = remove_u_plus_symbols(test_string)\n",
    "print(\"Result:\", result_string)\n"
   ]
  },
  {
   "cell_type": "markdown",
   "id": "a696a2f0",
   "metadata": {},
   "source": [
    "Question 29- Write a python program to extract dates from the text stored in the text file.\n",
    "Sample Text: Ron was born on 12-09-1992 and he was admitted to school 15-12-1999.\n",
    "Store this sample text in the file and then extract dates.\n"
   ]
  },
  {
   "cell_type": "code",
   "execution_count": 23,
   "id": "9ea9de77",
   "metadata": {},
   "outputs": [
    {
     "name": "stdout",
     "output_type": "stream",
     "text": [
      "Extracted dates: ['12-09-1992', '15-12-1999']\n"
     ]
    }
   ],
   "source": [
    "###Write a python program to extract dates from the text stored in the text file.\n",
    "\n",
    "\n",
    "import re\n",
    "\n",
    "def extract_dates_from_file(file_path):\n",
    "    with open(file_path, 'r') as file:\n",
    "        content = file.read()\n",
    "\n",
    "    pattern = r'\\b\\d{2}-\\d{2}-\\d{4}\\b'\n",
    "    dates = re.findall(pattern, content)\n",
    "    return dates\n",
    "\n",
    "# Store the sample text in a file\n",
    "sample_text = \"Ron was born on 12-09-1992 and he was admitted to school 15-12-1999.\"\n",
    "file_path = 'sample_text.txt'\n",
    "with open(file_path, 'w') as file:\n",
    "    file.write(sample_text)\n",
    "\n",
    "# Extract dates from the file\n",
    "extracted_dates = extract_dates_from_file(file_path)\n",
    "print(\"Extracted dates:\", extracted_dates)\n"
   ]
  },
  {
   "cell_type": "markdown",
   "id": "aa862a91",
   "metadata": {},
   "source": [
    "Question 30- Write a Python program to replace all occurrences of a space, comma, or dot with a colon.\n",
    "Sample Text- 'Python Exercises, PHP exercises.'\n",
    "Output: Python:Exercises::PHP:exercises:\n"
   ]
  },
  {
   "cell_type": "code",
   "execution_count": 24,
   "id": "6bf3f593",
   "metadata": {},
   "outputs": [
    {
     "name": "stdout",
     "output_type": "stream",
     "text": [
      "Python:Exercises::PHP:exercises:\n"
     ]
    }
   ],
   "source": [
    "###Question 30- Write a Python program to replace all occurrences of a space, comma, or dot with a colon.\n",
    "\n",
    "\n",
    "import re\n",
    "\n",
    "def replace_occurrences(text):\n",
    "    pattern = r'[ ,.]'\n",
    "    replacement = ':'\n",
    "    new_text = re.sub(pattern, replacement, text)\n",
    "    return new_text\n",
    "\n",
    "sample_text = 'Python Exercises, PHP exercises.'\n",
    "output = replace_occurrences(sample_text)\n",
    "print(output)"
   ]
  },
  {
   "cell_type": "code",
   "execution_count": null,
   "id": "2acd80ef",
   "metadata": {},
   "outputs": [],
   "source": []
  }
 ],
 "metadata": {
  "kernelspec": {
   "display_name": "Python 3 (ipykernel)",
   "language": "python",
   "name": "python3"
  },
  "language_info": {
   "codemirror_mode": {
    "name": "ipython",
    "version": 3
   },
   "file_extension": ".py",
   "mimetype": "text/x-python",
   "name": "python",
   "nbconvert_exporter": "python",
   "pygments_lexer": "ipython3",
   "version": "3.9.12"
  }
 },
 "nbformat": 4,
 "nbformat_minor": 5
}
